{
 "cells": [
  {
   "cell_type": "code",
   "execution_count": 1,
   "metadata": {},
   "outputs": [],
   "source": [
    "import torch\n",
    "import torch.nn.functional as F\n",
    "\n",
    "def load_embeddings(path):\n",
    "    data = torch.load(path, map_location=\"cpu\")\n",
    "    embeddings = data[\"embeddings\"]  # shape (N, D)\n",
    "    db_id_to_index = data[\"db_id_to_index\"]  # mapping db_id -> index\n",
    "    return embeddings, db_id_to_index\n",
    "\n",
    "def cosine_similarity_between_ids(embedding_path, db_id1, db_id2):\n",
    "    embeddings, db_id_to_index = load_embeddings(embedding_path)\n",
    "\n",
    "    if db_id1 not in db_id_to_index or db_id2 not in db_id_to_index:\n",
    "        raise ValueError(f\"One or both db_ids not found: {db_id1}, {db_id2}\")\n",
    "\n",
    "    idx1 = db_id_to_index[db_id1]\n",
    "    idx2 = db_id_to_index[db_id2]\n",
    "\n",
    "    emb1 = embeddings[idx1].unsqueeze(0)  # shape (1, D)\n",
    "    emb2 = embeddings[idx2].unsqueeze(0)  # shape (1, D)\n",
    "\n",
    "    similarity = F.cosine_similarity(emb1, emb2, dim=1).item()\n",
    "    return similarity\n"
   ]
  },
  {
   "cell_type": "code",
   "execution_count": 3,
   "metadata": {},
   "outputs": [
    {
     "name": "stdout",
     "output_type": "stream",
     "text": [
      "Cosine similarity between 35179 and 80846: -0.1363\n"
     ]
    }
   ],
   "source": [
    "embedding_path = \"/hpctmp/e1351271/wkdbs/out/col_matcher_bge-m3_database/weights/finetuned_bge_m3_softmax_lr1e-05/embeddings/all_embeddings.pt\"\n",
    "\n",
    "db_id1 = \"35179\"\n",
    "db_id2 = \"80846\"\n",
    "\n",
    "similarity = cosine_similarity_between_ids(embedding_path, db_id1, db_id2)\n",
    "print(f\"Cosine similarity between {db_id1} and {db_id2}: {similarity:.4f}\")\n"
   ]
  },
  {
   "cell_type": "code",
   "execution_count": null,
   "metadata": {},
   "outputs": [],
   "source": []
  }
 ],
 "metadata": {
  "kernelspec": {
   "display_name": "torch2",
   "language": "python",
   "name": "python3"
  },
  "language_info": {
   "codemirror_mode": {
    "name": "ipython",
    "version": 3
   },
   "file_extension": ".py",
   "mimetype": "text/x-python",
   "name": "python",
   "nbconvert_exporter": "python",
   "pygments_lexer": "ipython3",
   "version": "3.10.13"
  }
 },
 "nbformat": 4,
 "nbformat_minor": 2
}
